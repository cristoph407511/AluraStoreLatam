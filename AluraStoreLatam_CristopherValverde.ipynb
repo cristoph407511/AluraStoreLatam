{
  "nbformat": 4,
  "nbformat_minor": 0,
  "metadata": {
    "colab": {
      "provenance": []
    },
    "kernelspec": {
      "name": "python3",
      "display_name": "Python 3"
    },
    "language_info": {
      "name": "python"
    }
  },
  "cells": [
    {
      "cell_type": "markdown",
      "source": [
        "### Importación de datos\n",
        "\n"
      ],
      "metadata": {
        "id": "RhEdWd9YUR6H"
      }
    },
    {
      "cell_type": "code",
      "execution_count": 9,
      "metadata": {
        "id": "T3EvaeQ_INIL"
      },
      "outputs": [],
      "source": [
        "import pandas as pd\n",
        "\n",
        "# Carga de datos\n",
        "url = \"https://raw.githubusercontent.com/alura-es-cursos/challenge1-data-science-latam/refs/heads/main/base-de-datos-challenge1-latam/tienda_1%20.csv\"\n",
        "url2 = \"https://raw.githubusercontent.com/alura-es-cursos/challenge1-data-science-latam/refs/heads/main/base-de-datos-challenge1-latam/tienda_2.csv\"\n",
        "url3 = \"https://raw.githubusercontent.com/alura-es-cursos/challenge1-data-science-latam/refs/heads/main/base-de-datos-challenge1-latam/tienda_3.csv\"\n",
        "url4 = \"https://raw.githubusercontent.com/alura-es-cursos/challenge1-data-science-latam/refs/heads/main/base-de-datos-challenge1-latam/tienda_4.csv\"\n",
        "\n",
        "# Cargar y etiquetar las tiendas\n",
        "tienda1 = pd.read_csv(url)\n",
        "tienda1[\"Tienda\"] = \"Tienda 1\"\n",
        "\n",
        "tienda2 = pd.read_csv(url2)\n",
        "tienda2[\"Tienda\"] = \"Tienda 2\"\n",
        "\n",
        "tienda3 = pd.read_csv(url3)\n",
        "tienda3[\"Tienda\"] = \"Tienda 3\"\n",
        "\n",
        "tienda4 = pd.read_csv(url4)\n",
        "tienda4[\"Tienda\"] = \"Tienda 4\"\n",
        "\n",
        "# Unir todas las tiendas\n",
        "df = pd.concat([tienda1, tienda2, tienda3, tienda4], ignore_index=True)"
      ]
    },
    {
      "cell_type": "markdown",
      "source": [
        "#1. Análisis de facturación\n",
        "\n"
      ],
      "metadata": {
        "id": "X62IW3KFUIYm"
      }
    },
    {
      "cell_type": "code",
      "source": [
        "facturacion_total = df.groupby(\"Tienda\")[\"Precio\"].sum().sort_values(ascending=False)\n",
        "print(\" Facturación total por tienda:\\n\", facturacion_total)\n",
        "\n"
      ],
      "metadata": {
        "id": "xykobSftV64I",
        "colab": {
          "base_uri": "https://localhost:8080/"
        },
        "outputId": "ebaa2734-26fa-4e87-d63c-f9933775b106"
      },
      "execution_count": 10,
      "outputs": [
        {
          "output_type": "stream",
          "name": "stdout",
          "text": [
            " Facturación total por tienda:\n",
            " Tienda\n",
            "Tienda 1    1.150880e+09\n",
            "Tienda 2    1.116344e+09\n",
            "Tienda 3    1.098020e+09\n",
            "Tienda 4    1.038376e+09\n",
            "Name: Precio, dtype: float64\n"
          ]
        }
      ]
    },
    {
      "cell_type": "markdown",
      "source": [
        "# 2. Ventas por categoría"
      ],
      "metadata": {
        "id": "2V_vcAPzWZmR"
      }
    },
    {
      "cell_type": "code",
      "source": [
        "categorias_populares = df.groupby([\"Tienda\", \"Categoría del Producto\"])[\"Producto\"].count()\n",
        "categorias_populares = categorias_populares.groupby(level=0).nlargest(1).reset_index(level=0, drop=True)\n",
        "print(\"\\n Categorías más populares por tienda:\\n\", categorias_populares)\n"
      ],
      "metadata": {
        "id": "A34YupIuYhfF",
        "colab": {
          "base_uri": "https://localhost:8080/"
        },
        "outputId": "c5c5759d-c81f-4ac1-827f-0819c14ceb3a"
      },
      "execution_count": 11,
      "outputs": [
        {
          "output_type": "stream",
          "name": "stdout",
          "text": [
            "\n",
            " Categorías más populares por tienda:\n",
            " Tienda    Categoría del Producto\n",
            "Tienda 1  Muebles                   465\n",
            "Tienda 2  Muebles                   442\n",
            "Tienda 3  Muebles                   499\n",
            "Tienda 4  Muebles                   480\n",
            "Name: Producto, dtype: int64\n"
          ]
        }
      ]
    },
    {
      "cell_type": "markdown",
      "source": [
        "# 3. Calificación promedio de la tienda\n"
      ],
      "metadata": {
        "id": "Rq6tU_xSY3jk"
      }
    },
    {
      "cell_type": "code",
      "source": [
        "promedio_calificacion = df.groupby(\"Tienda\")[\"Calificación\"].mean().round(2)\n",
        "print(\"\\n Promedio de calificación por tienda:\\n\", promedio_calificacion)\n"
      ],
      "metadata": {
        "id": "bh3jjjJwY5MU",
        "colab": {
          "base_uri": "https://localhost:8080/"
        },
        "outputId": "fb91930f-6498-46b4-d02e-8b2827e9a01d"
      },
      "execution_count": 12,
      "outputs": [
        {
          "output_type": "stream",
          "name": "stdout",
          "text": [
            "\n",
            " Promedio de calificación por tienda:\n",
            " Tienda\n",
            "Tienda 1    3.98\n",
            "Tienda 2    4.04\n",
            "Tienda 3    4.05\n",
            "Tienda 4    4.00\n",
            "Name: Calificación, dtype: float64\n"
          ]
        }
      ]
    },
    {
      "cell_type": "markdown",
      "source": [
        "# 4. Productos más y menos vendidos"
      ],
      "metadata": {
        "id": "DmNp1KPBZCm-"
      }
    },
    {
      "cell_type": "code",
      "source": [
        "productos_por_tienda = df.groupby([\"Tienda\", \"Producto\"]).size().reset_index(name=\"Cantidad Vendida\")\n",
        "\n",
        "mas_vendido = productos_por_tienda.sort_values(\"Cantidad Vendida\", ascending=False).groupby(\"Tienda\").first()\n",
        "menos_vendido = productos_por_tienda.sort_values(\"Cantidad Vendida\").groupby(\"Tienda\").first()\n",
        "\n",
        "print(\"\\n Producto más vendido por tienda:\\n\", mas_vendido)\n",
        "print(\"\\n Producto menos vendido por tienda:\\n\", menos_vendido)\n"
      ],
      "metadata": {
        "id": "qoyjqijQZHfF",
        "colab": {
          "base_uri": "https://localhost:8080/"
        },
        "outputId": "d67af445-834e-4f47-ecff-0129fc02b50a"
      },
      "execution_count": 13,
      "outputs": [
        {
          "output_type": "stream",
          "name": "stdout",
          "text": [
            "\n",
            " Producto más vendido por tienda:\n",
            "                            Producto  Cantidad Vendida\n",
            "Tienda                                               \n",
            "Tienda 1              TV LED UHD 4K                60\n",
            "Tienda 2  Iniciando en programación                65\n",
            "Tienda 3              Kit de bancas                57\n",
            "Tienda 4                   Cama box                62\n",
            "\n",
            " Producto menos vendido por tienda:\n",
            "                            Producto  Cantidad Vendida\n",
            "Tienda                                               \n",
            "Tienda 1  Auriculares con micrófono                33\n",
            "Tienda 2              Juego de mesa                32\n",
            "Tienda 3    Bloques de construcción                35\n",
            "Tienda 4         Guitarra eléctrica                33\n"
          ]
        }
      ]
    },
    {
      "cell_type": "markdown",
      "source": [
        "# 5. Envío promedio por tienda"
      ],
      "metadata": {
        "id": "Fl0cGi3bZKqU"
      }
    },
    {
      "cell_type": "code",
      "source": [
        "costo_envio_promedio = df.groupby(\"Tienda\")[\"Costo de envío\"].mean().round(2)\n",
        "print(\"\\n Costo promedio de envío por tienda:\\n\", costo_envio_promedio)\n"
      ],
      "metadata": {
        "id": "S2JeaCykZNy9",
        "colab": {
          "base_uri": "https://localhost:8080/"
        },
        "outputId": "4a459699-bd3b-4050-93ec-433086c4e83f"
      },
      "execution_count": 14,
      "outputs": [
        {
          "output_type": "stream",
          "name": "stdout",
          "text": [
            "\n",
            " Costo promedio de envío por tienda:\n",
            " Tienda\n",
            "Tienda 1    26018.61\n",
            "Tienda 2    25216.24\n",
            "Tienda 3    24805.68\n",
            "Tienda 4    23459.46\n",
            "Name: Costo de envío, dtype: float64\n"
          ]
        }
      ]
    }
  ]
}